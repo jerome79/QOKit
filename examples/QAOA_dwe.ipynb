{
 "cells": [
  {
   "cell_type": "code",
   "execution_count": 2,
   "id": "57671ea8-98eb-4e10-a99a-4a6586796e38",
   "metadata": {},
   "outputs": [],
   "source": [
    "from qokit.qaoa_dwe import get_qaoa_dwe_results"
   ]
  },
  {
   "cell_type": "code",
   "execution_count": 3,
   "id": "11238797-32bc-42ca-bc13-b9e35b0274b5",
   "metadata": {},
   "outputs": [],
   "source": [
    "results = get_qaoa_dwe_results(\n",
    "    A_coeff=1,  # Coefficient for q^2\n",
    "    B_coeff=1,  # Coefficient for -q\n",
    "    max_quantity=2,  # Maximum quantity (0 to 2)\n",
    "    DWE_PENALTY_STRENGTH=10,  # Strength of the DWE penalty term\n",
    "    p_layers=1,  # Number of QAOA layers\n",
    "    optimizer_method='L_BFGS_B',  # Optimizer method\n",
    "    max_iterations=50  # Max iterations for optimizer\n",
    ")"
   ]
  },
  {
   "cell_type": "code",
   "execution_count": 4,
   "id": "768016a2-bfab-484c-ac55-0d4a6499b39b",
   "metadata": {},
   "outputs": [
    {
     "name": "stdout",
     "output_type": "stream",
     "text": [
      "{'beta': 0.615478866538661, 'gamma': -5.49778553279658, 'gs_energy': -1.9999999999954743, 'time': 0.32592010498046875, 'evaluations': 21, 'p': 1, 'N': 2, 'solution': '10', 'probability': 0.6121007391378859, 'optimizer': 'L_BFGS_B'}\n"
     ]
    }
   ],
   "source": [
    "print(results)"
   ]
  },
  {
   "cell_type": "code",
   "execution_count": null,
   "id": "6b53a41a-bb39-42f2-abe1-f6d3cd7d4a12",
   "metadata": {},
   "outputs": [],
   "source": []
  }
 ],
 "metadata": {
  "kernelspec": {
   "display_name": "Python 3 (ipykernel)",
   "language": "python",
   "name": "python3"
  },
  "language_info": {
   "codemirror_mode": {
    "name": "ipython",
    "version": 3
   },
   "file_extension": ".py",
   "mimetype": "text/x-python",
   "name": "python",
   "nbconvert_exporter": "python",
   "pygments_lexer": "ipython3",
   "version": "3.12.3"
  }
 },
 "nbformat": 4,
 "nbformat_minor": 5
}
